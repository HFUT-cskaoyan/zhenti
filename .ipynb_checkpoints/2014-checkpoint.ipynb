{
 "cells": [
  {
   "cell_type": "markdown",
   "id": "fd7bf398",
   "metadata": {},
   "source": [
    "# <center>合肥工业大学 2014 年硕士研究生初试专业课笔试试题</center>"
   ]
  },
  {
   "cell_type": "markdown",
   "id": "8d833139",
   "metadata": {},
   "source": [
    "## <center>数据结构</center>"
   ]
  },
  {
   "cell_type": "markdown",
   "id": "82e3c045",
   "metadata": {},
   "source": [
    "### 一、选择题"
   ]
  },
  {
   "cell_type": "markdown",
   "id": "79ad4b8a",
   "metadata": {},
   "source": [
    "1. 对于顺序存储的线性表，访问节点和增加、删除节点的时间复杂度为( ).  \n",
    "\n",
    "    A.O(n) 和 O(n)&emsp; B.O(n) 和 O(1)&emsp; C.O(1) 和 O(n) &emsp; D.O(1) 和 O(1)"
   ]
  },
  {
   "cell_type": "markdown",
   "id": "dcc91326",
   "metadata": {},
   "source": [
    "2. 一棵左右子树均不空的二叉树在先序线索化后，其中空的链域的个数是( ).  \n",
    "A.0&emsp;B.1&emsp;C.2&emsp;D. 不 确 定"
   ]
  },
  {
   "cell_type": "markdown",
   "id": "67a253c0",
   "metadata": {},
   "source": [
    "3. 在图采用邻接表存储时，求最小生成树的 Prim 算法的时间复杂度为( ).  \n",
    "A.O(n) &emsp;B.(n+e) &emsp;C.O(n²) &emsp;D.(n³)"
   ]
  },
  {
   "cell_type": "markdown",
   "id": "7a7fd272",
   "metadata": {},
   "source": [
    "4. n 个顶点无向连通图最少有（ ）条边.  \n",
    "A.O(n²)&emsp; B.O(n)&emsp;C.O(n-1)&emsp;D.O(log2n)  "
   ]
  },
  {
   "cell_type": "markdown",
   "id": "bd599063",
   "metadata": {},
   "source": [
    "5. 对序列{15，9，7，8，20，-1，4}进行排序，进行一趟后数据的排列变为{4， 9，-1，8，20，7，15}，则采用的是（ ）排序.  \n",
    "A. 选 择&emsp;B. 快 速&emsp;C. 希 尔&emsp; D. 冒 泡"
   ]
  },
  {
   "cell_type": "markdown",
   "id": "db9e4945",
   "metadata": {},
   "source": [
    "### 二、解答题"
   ]
  },
  {
   "cell_type": "markdown",
   "id": "4f3441c4",
   "metadata": {},
   "source": [
    "1. 求出下图中从顶点 1 到其余各顶点的最短路径。\n",
    "```\n",
    "待插入图片\n",
    "```"
   ]
  },
  {
   "cell_type": "markdown",
   "id": "2cbdcc95",
   "metadata": {},
   "source": [
    "2. 对下面数据表，构建哈夫曼树，并计算其带权路径长度。  \n",
    "（8，10，21，32，57，31，28，37，10）"
   ]
  },
  {
   "cell_type": "markdown",
   "id": "6dcb45b4",
   "metadata": {},
   "source": [
    "3. 给出下列程序，写出 print（5）的运行结果  \n",
    "```c++\n",
    "void print(int n)\n",
    "{\n",
    "if(n==0)\n",
    "return;\n",
    "else\n",
    "{\n",
    "print(n-1);\n",
    "for(int i=0; i<n; i++)\n",
    "cout<<n<<””;\n",
    "cout<<endl;\n",
    "}\n",
    "}\n",
    "```"
   ]
  },
  {
   "cell_type": "markdown",
   "id": "673beb58",
   "metadata": {},
   "source": [
    "### 三、算法设计题"
   ]
  },
  {
   "cell_type": "markdown",
   "id": "e434a4f6",
   "metadata": {},
   "source": [
    "1. 设计算法以实现对无向图 G 的深度遍历，要求：将每一个连通分量中的顶点以一个表的形式输出。例如，图 2 的输出结果为：（1，3）（2，6，7，4， 5，8）（9，10）.  \n",
    "```\n",
    "待插入图片  \n",
    "```\n",
    "注：本算法中可以调用以下几个函数：  \n",
    "firstadj(g,v)——返回图 g 中顶点 v 的第一个邻接点的号码，若不存在，则返回 0  nextadj(g,v,w)——返回图 g 中顶点 v 的邻接点中处于 w 之后的邻接点的号码，若 不存在，则返回 0;  \n",
    "nodes(g)——返回图 g 中的顶点数"
   ]
  },
  {
   "cell_type": "markdown",
   "id": "f934c2c7",
   "metadata": {},
   "source": [
    "2. 设计一个非递归算法以输出二叉树 t 中先序序列中最后一个结点的值。"
   ]
  },
  {
   "cell_type": "markdown",
   "id": "1516b1f6",
   "metadata": {},
   "source": [
    "3. 给定顺序表 A，给出快速排序的算法实现过程（递归或非递归都可），并给出其最好时间性能分析。"
   ]
  }
 ],
 "metadata": {
  "kernelspec": {
   "display_name": "Python 3",
   "language": "python",
   "name": "python3"
  },
  "language_info": {
   "codemirror_mode": {
    "name": "ipython",
    "version": 3
   },
   "file_extension": ".py",
   "mimetype": "text/x-python",
   "name": "python",
   "nbconvert_exporter": "python",
   "pygments_lexer": "ipython3",
   "version": "3.8.8"
  }
 },
 "nbformat": 4,
 "nbformat_minor": 5
}
