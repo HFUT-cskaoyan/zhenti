{
 "cells": [
  {
   "cell_type": "markdown",
   "id": "fd7bf398",
   "metadata": {},
   "source": [
    "# <center>合肥工业大学 2014 年硕士研究生初试专业课笔试试题</center>"
   ]
  },
  {
   "cell_type": "markdown",
   "id": "82e3c045",
   "metadata": {},
   "source": [
    "# 一 选择题"
   ]
  },
  {
   "cell_type": "markdown",
   "id": "79ad4b8a",
   "metadata": {},
   "source": [
    "1. 对于顺序存储的线性表，访问节点和增加、删除节点的时间复杂度为( ).  \n",
    "\n",
    "    A.O(n) 和 O(n)&emsp; B.O(n) 和 O(1)&emsp; C.O(1) 和 O(n) &emsp; D.O(1) 和 O(1)"
   ]
  },
  {
   "cell_type": "markdown",
   "id": "dcc91326",
   "metadata": {},
   "source": [
    "2. 一棵左右子树均不空的二叉树在先序线索化后，其中空的链域的个数是( ).  \n",
    "A.0&emsp;B.1&emsp;C.2&emsp;D. 不 确 定"
   ]
  },
  {
   "cell_type": "markdown",
   "id": "67a253c0",
   "metadata": {},
   "source": [
    "3. 在图采用邻接表存储时，求最小生成树的 Prim 算法的时间复杂度为( ).  \n",
    "A.O(n) &emsp;B.(n+e) &emsp;C.O(n²) &emsp;D.(n³)"
   ]
  },
  {
   "cell_type": "markdown",
   "id": "7a7fd272",
   "metadata": {},
   "source": [
    "4. n 个顶点无向连通图最少有（ ）条边.  \n",
    "A.O(n²)&emsp; B.O(n)&emsp;C.O(n-1)&emsp;D.O(log2n)  "
   ]
  },
  {
   "cell_type": "markdown",
   "id": "bd599063",
   "metadata": {},
   "source": [
    "5. 对序列{15，9，7，8，20，-1，4}进行排序，进行一趟后数据的排列变为{4， 9，-1，8，20，7，15}，则采用的是（ ）排序.  \n",
    "A. 选 择&emsp;B. 快 速&emsp;C. 希 尔&emsp; D. 冒 泡"
   ]
  },
  {
   "cell_type": "markdown",
   "id": "db9e4945",
   "metadata": {},
   "source": [
    "二 解答题"
   ]
  },
  {
   "cell_type": "markdown",
   "id": "4f3441c4",
   "metadata": {},
   "source": [
    "1. 求出下图中从顶点 1 到其余各顶点的最短路径。"
   ]
  }
 ],
 "metadata": {
  "kernelspec": {
   "display_name": "Python 3",
   "language": "python",
   "name": "python3"
  },
  "language_info": {
   "codemirror_mode": {
    "name": "ipython",
    "version": 3
   },
   "file_extension": ".py",
   "mimetype": "text/x-python",
   "name": "python",
   "nbconvert_exporter": "python",
   "pygments_lexer": "ipython3",
   "version": "3.8.8"
  }
 },
 "nbformat": 4,
 "nbformat_minor": 5
}
